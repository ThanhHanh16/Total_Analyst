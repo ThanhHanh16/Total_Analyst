{
 "cells": [
  {
   "cell_type": "code",
   "execution_count": 3,
   "id": "0224aa2e",
   "metadata": {},
   "outputs": [
    {
     "data": {
      "text/plain": [
       "18"
      ]
     },
     "execution_count": 3,
     "metadata": {},
     "output_type": "execute_result"
    }
   ],
   "source": [
    "import pandas as pd\n",
    "from sqlalchemy import create_engine\n",
    "import urllib\n",
    "\n",
    "# 1. Đọc Excel\n",
    "df = pd.read_excel('data_cleaned.xlsx', sheet_name='ticket')\n",
    "df_customer = pd.read_excel('data_cleaned.xlsx', sheet_name=\"customer\")\n",
    "df_film = pd.read_excel('data_cleaned.xlsx', sheet_name=\"film\")\n",
    "df_readme = pd.read_excel('data_cleaned.xlsx', sheet_name=\"readme\")\n",
    "\n",
    "# 3. Chuẩn bị connection string Windows Auth\n",
    "conn_str = (\n",
    "    r\"Driver={ODBC Driver 17 for SQL Server};\"\n",
    "    r\"Server=DESKTOP-DEM3AI5;\"\n",
    "    r\"Database=data_cinema;\"           \n",
    "    r\"Trusted_Connection=yes;\"\n",
    ")\n",
    "# quote_plus để escape các ký tự đặc biệt\n",
    "quoted = urllib.parse.quote_plus(conn_str)\n",
    "\n",
    "# 4. Tạo engine SQLAlchemy\n",
    "engine = create_engine(f\"mssql+pyodbc:///?odbc_connect={quoted}\")\n",
    "\n",
    "# 5. Ghi DataFrame vào table dbo.ticket\n",
    "df.to_sql(\n",
    "    name=\"ticket\",\n",
    "    con=engine,\n",
    "    schema=\"dbo\",        \n",
    "    if_exists=\"replace\", \n",
    "    index=False\n",
    ")\n",
    "df_customer.to_sql('customer', con=engine, schema='dbo', if_exists='replace', index=False)\n",
    "df_film.to_sql('film', con=engine, schema='dbo', if_exists='replace', index=False)\n",
    "df_readme.to_sql('readme', con=engine, schema='dbo', if_exists='replace', index=False)\n",
    "\n"
   ]
  },
  {
   "cell_type": "code",
   "execution_count": null,
   "id": "8b685f06",
   "metadata": {},
   "outputs": [
    {
     "name": "stderr",
     "output_type": "stream",
     "text": [
      "C:\\Users\\admin\\AppData\\Local\\Temp\\ipykernel_24760\\3363542322.py:45: UserWarning: pandas only supports SQLAlchemy connectable (engine/connection) or database string URI or sqlite3 DBAPI2 connection. Other DBAPI2 objects are not tested. Please consider using SQLAlchemy.\n",
      "  df = pd.read_sql(sql_query, conn)\n"
     ]
    }
   ],
   "source": [
    "import pandas as pd\n",
    "import pyodbc\n",
    "\n",
    "# Thiết lập kết nối tới SQL Server\n",
    "conn = pyodbc.connect('DRIVER={ODBC Driver 17 for SQL Server};SERVER=DESKTOP-DEM3AI5;DATABASE=data_cinema;Trusted_Connection=yes')\n",
    "# Viết truy vấn SQL\n",
    "sql_query = \"\"\"\n",
    "WITH RECENCY AS (\n",
    "    SELECT \n",
    "        customerid, \n",
    "        DATEDIFF(DAY, MAX(saledate), '2019-06-15') AS Recency -- Tính số ngày từ lần giao dịch gần nhất đến ngày hiện tại\n",
    "    FROM dbo.ticket\n",
    "    GROUP BY customerid\n",
    "),\n",
    "FREQUENCY AS (\n",
    "    SELECT \n",
    "        customerid, \n",
    "        COUNT(*) AS Frequency -- Đếm số lần giao dịch của khách hàng\n",
    "    FROM dbo.ticket\n",
    "    GROUP BY customerid\n",
    "),\n",
    "MONETARY AS (\n",
    "    SELECT \n",
    "        customerid, \n",
    "        SUM(total) AS Monetary -- Tổng chi tiêu của khách hàng\n",
    "    FROM dbo.ticket\n",
    "    GROUP BY customerid\n",
    ")\n",
    "\n",
    "-- Kết hợp các bảng Recency, Frequency và Monetary vào một bảng\n",
    "SELECT R.CUSTOMERID, R.RECENCY, F.FREQUENCY, M.MONETARY,\n",
    "    CASE \n",
    "        WHEN R.RECENCY <= 20 AND F.FREQUENCY >= 8 AND M.MONETARY > 800000 THEN 'VIP'\n",
    "        WHEN R.RECENCY <= 30 AND F.FREQUENCY BETWEEN 5 AND 7 AND M.MONETARY BETWEEN 500000 AND 800000 THEN N'Khách hàng tiềm năng cao'\n",
    "        WHEN R.RECENCY <= 90 AND F.FREQUENCY BETWEEN 2 AND 4 AND M.MONETARY BETWEEN 200000 AND 499999 THEN N'Khách hàng tiềm năng'\n",
    "        ELSE N'Khách hàng cần chú ý'\n",
    "    END AS CUSTOMER\n",
    "FROM RECENCY R\n",
    "JOIN FREQUENCY F ON R.CUSTOMERID = F.CUSTOMERID\n",
    "JOIN MONETARY M ON R.CUSTOMERID = M.CUSTOMERID\n",
    "ORDER BY CUSTOMER DESC\n",
    "\"\"\"\n",
    "\n",
    "# Đọc dữ liệu vào DataFrame\n",
    "df = pd.read_sql(sql_query, conn)\n",
    "\n",
    "# Đọc file Excel hiện tại (data_clean.xlsx)\n",
    "excel_file = 'data_clean.xlsx'\n",
    "with pd.ExcelWriter(excel_file, engine='openpyxl', mode='a') as writer: \n",
    "    df.to_excel(writer, sheet_name='Phân loại khách hàng', index=False)\n",
    "\n",
    "# Đóng kết nối\n",
    "conn.close()\n"
   ]
  }
 ],
 "metadata": {
  "kernelspec": {
   "display_name": "Python 3",
   "language": "python",
   "name": "python3"
  },
  "language_info": {
   "codemirror_mode": {
    "name": "ipython",
    "version": 3
   },
   "file_extension": ".py",
   "mimetype": "text/x-python",
   "name": "python",
   "nbconvert_exporter": "python",
   "pygments_lexer": "ipython3",
   "version": "3.12.10"
  }
 },
 "nbformat": 4,
 "nbformat_minor": 5
}
